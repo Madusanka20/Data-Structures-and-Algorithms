{
 "cells": [
  {
   "cell_type": "code",
   "execution_count": null,
   "metadata": {},
   "outputs": [],
   "source": [
    "import matplotlib.pyplot as plt\n",
    "\n",
    "\n",
    "sizes = [1000, 5000, 10000, 50000, 100000]\n",
    "recursive_times = [0.1125,0.6728,1.461,9.2703,19.8144] \n",
    "iterative_times = [0.158, 0.9204, 1.8435, 12.0856, 24.7434]  \n",
    "\n",
    "# Plot the results\n",
    "plt.figure(figsize=(8, 5))\n",
    "plt.plot(sizes, recursive_times, label=\"Recursive Quick Sort\", marker=\"o\")\n",
    "plt.plot(sizes, iterative_times, label=\"Iterative Quick Sort\", marker=\"s\")\n",
    "\n",
    "# Formatting the graph\n",
    "plt.xlabel(\"Input Size (N)\")\n",
    "plt.ylabel(\"Time (ms)\")\n",
    "plt.title(\"Comparison of Iterative vs Recursive Quick Sort\")\n",
    "plt.legend()\n",
    "plt.grid(True)\n",
    "\n",
    "\n",
    "plt.savefig(\"quick_sort_comparison.png\")\n",
    "\n",
    "\n",
    "plt.show()\n"
   ]
  }
 ],
 "metadata": {
  "language_info": {
   "name": "python"
  }
 },
 "nbformat": 4,
 "nbformat_minor": 2
}
